{
 "cells": [
  {
   "cell_type": "markdown",
   "id": "de3d953d-4750-4b67-859c-8cf6e9cf9775",
   "metadata": {},
   "source": [
    "# SAVING AND LOADING MODELS\n",
    "\n",
    "### It can be done using 2 different methods:\n",
    "1. With python's pickle module\n",
    "2. With the joblib module"
   ]
  },
  {
   "cell_type": "code",
   "execution_count": 9,
   "id": "d94aba1a-b618-4bb0-b1ca-ad4f8c22f8cc",
   "metadata": {},
   "outputs": [],
   "source": [
    "from sklearn.ensemble import RandomForestClassifier\n",
    "import pandas as pd\n",
    "import numpy as np\n",
    "from sklearn.model_selection import train_test_split\n",
    "from sklearn.metrics import accuracy_score, precision_score, recall_score, f1_score"
   ]
  },
  {
   "cell_type": "code",
   "execution_count": 4,
   "id": "9cbe044a-e50e-4654-a01e-e7b3684c1fb1",
   "metadata": {},
   "outputs": [],
   "source": [
    "def evaluate_predictions(y_true, y_preds):\n",
    "\n",
    "    accuracy = accuracy_score(y_true, y_preds)\n",
    "    precision = precision_score(y_true, y_preds)\n",
    "    recall = recall_score(y_true, y_preds)\n",
    "    f1 = f1_score(y_true, y_preds)\n",
    "\n",
    "    metric_dict = {\n",
    "        \"accuracy\":accuracy,\n",
    "        \"precision\":precision,\n",
    "        \"recall\":recall,\n",
    "        \"f1 score\":f1\n",
    "    }\n",
    "\n",
    "    print(f\"Accuracy: {accuracy*100}\\nPrecision: {precision}\\nRecall: {recall*100}\\nF1 Score: {f1*100}\")\n",
    "\n",
    "    return metric_dict"
   ]
  },
  {
   "cell_type": "code",
   "execution_count": 17,
   "id": "276dfac9-f8b2-420d-a91b-65769e883cc7",
   "metadata": {},
   "outputs": [
    {
     "name": "stdout",
     "output_type": "stream",
     "text": [
      "Accuracy: 83.60655737704919\n",
      "Precision: 0.8048780487804879\n",
      "Recall: 94.28571428571428\n",
      "F1 Score: 86.8421052631579\n"
     ]
    }
   ],
   "source": [
    "dataset = pd.read_csv(\"heart-disease.csv\")\n",
    "dataset = dataset.sample(frac=1)\n",
    "\n",
    "X = dataset.drop(\"target\", axis=1)\n",
    "y = dataset[\"target\"]\n",
    "\n",
    "X_train, X_test, y_train, y_test = train_test_split(X, y, test_size=0.2)\n",
    "\n",
    "np.random.seed(42)\n",
    "clf = RandomForestClassifier(n_estimators=100)\n",
    "\n",
    "clf.fit(X_train, y_train)\n",
    "y_preds = clf.predict(X_test)\n",
    "\n",
    "clf_metircs = evaluate_predictions(y_test, y_preds)"
   ]
  },
  {
   "cell_type": "markdown",
   "id": "a322aab3-7bab-4343-afe0-fb877ffa2cd0",
   "metadata": {},
   "source": [
    "## 1. Saving the model using Pickle"
   ]
  },
  {
   "cell_type": "code",
   "execution_count": 18,
   "id": "bf70b1da-5b78-4343-8aa9-86ec0168975c",
   "metadata": {},
   "outputs": [],
   "source": [
    "import pickle\n",
    "\n",
    "pickle.dump(clf, open(\"classification_model.pkl\", \"wb\"))"
   ]
  },
  {
   "cell_type": "markdown",
   "id": "e4c85634-7fc1-4177-9628-ba8671864302",
   "metadata": {},
   "source": [
    "### Loading the saved model"
   ]
  },
  {
   "cell_type": "raw",
   "id": "3864aa81-df7f-4cfe-8170-1abddb36704c",
   "metadata": {},
   "source": [
    "loaded_model = pickle.load(open(\"classification_model.pkl\", \"rb\"))"
   ]
  },
  {
   "cell_type": "code",
   "execution_count": 20,
   "id": "4ea7730c-c95e-4939-bca3-6bbdc0cc30d7",
   "metadata": {},
   "outputs": [
    {
     "name": "stdout",
     "output_type": "stream",
     "text": [
      "Accuracy: 83.60655737704919\n",
      "Precision: 0.8048780487804879\n",
      "Recall: 94.28571428571428\n",
      "F1 Score: 86.8421052631579\n"
     ]
    },
    {
     "data": {
      "text/plain": [
       "{'accuracy': 0.8360655737704918,\n",
       " 'precision': np.float64(0.8048780487804879),\n",
       " 'recall': np.float64(0.9428571428571428),\n",
       " 'f1 score': np.float64(0.868421052631579)}"
      ]
     },
     "execution_count": 20,
     "metadata": {},
     "output_type": "execute_result"
    }
   ],
   "source": [
    "loaded_model_preds = loaded_model.predict(X_test)\n",
    "evaluate_predictions(y_test, loaded_model_preds)"
   ]
  },
  {
   "cell_type": "markdown",
   "id": "d605a058-b0c5-4a81-aff7-2283b2d33e23",
   "metadata": {},
   "source": [
    "## 2. Saving the model using Joblib"
   ]
  },
  {
   "cell_type": "code",
   "execution_count": 23,
   "id": "85209571-cdb4-4187-9d8b-8a7ae67a63a6",
   "metadata": {},
   "outputs": [],
   "source": [
    "from joblib import dump, load\n",
    "\n",
    "dump(clf, open(\"class_model.joblib\", \"wb\"))"
   ]
  },
  {
   "cell_type": "markdown",
   "id": "42970070-a2b6-4f69-8e71-008b03633d61",
   "metadata": {},
   "source": [
    "### Loading the saved model"
   ]
  },
  {
   "cell_type": "code",
   "execution_count": 24,
   "id": "f9cb1f4a-ad53-458b-ac50-99d933b6b138",
   "metadata": {},
   "outputs": [],
   "source": [
    "loaded_model = load(filename=\"class_model.joblib\")"
   ]
  },
  {
   "cell_type": "code",
   "execution_count": 25,
   "id": "1957ceb3-b95b-4e29-97d1-e81f1e6e2655",
   "metadata": {},
   "outputs": [
    {
     "name": "stdout",
     "output_type": "stream",
     "text": [
      "Accuracy: 83.60655737704919\n",
      "Precision: 0.8048780487804879\n",
      "Recall: 94.28571428571428\n",
      "F1 Score: 86.8421052631579\n"
     ]
    },
    {
     "data": {
      "text/plain": [
       "{'accuracy': 0.8360655737704918,\n",
       " 'precision': np.float64(0.8048780487804879),\n",
       " 'recall': np.float64(0.9428571428571428),\n",
       " 'f1 score': np.float64(0.868421052631579)}"
      ]
     },
     "execution_count": 25,
     "metadata": {},
     "output_type": "execute_result"
    }
   ],
   "source": [
    "loaded_model_preds = loaded_model.predict(X_test)\n",
    "evaluate_predictions(y_test, loaded_model_preds)"
   ]
  }
 ],
 "metadata": {
  "kernelspec": {
   "display_name": "Python 3 (ipykernel)",
   "language": "python",
   "name": "python3"
  },
  "language_info": {
   "codemirror_mode": {
    "name": "ipython",
    "version": 3
   },
   "file_extension": ".py",
   "mimetype": "text/x-python",
   "name": "python",
   "nbconvert_exporter": "python",
   "pygments_lexer": "ipython3",
   "version": "3.12.4"
  }
 },
 "nbformat": 4,
 "nbformat_minor": 5
}
