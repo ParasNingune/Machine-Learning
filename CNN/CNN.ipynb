{
 "cells": [
  {
   "cell_type": "markdown",
   "id": "414733d1-d66f-4882-baa9-8911886c1e4e",
   "metadata": {},
   "source": [
    "# Importing libraries"
   ]
  },
  {
   "cell_type": "code",
   "execution_count": 5,
   "id": "d7e262e5-197d-467d-8331-9d5e4abc3811",
   "metadata": {},
   "outputs": [],
   "source": [
    "import tensorflow as tf\n",
    "from tensorflow.keras.preprocessing.image import ImageDataGenerator"
   ]
  },
  {
   "cell_type": "markdown",
   "id": "11545741-9a8d-4278-a04a-c28cb774b96c",
   "metadata": {},
   "source": [
    "# Data Preprocessing"
   ]
  },
  {
   "cell_type": "markdown",
   "id": "84ec3242-fe74-4c05-8423-fc571d5de309",
   "metadata": {},
   "source": [
    "### 1. Preprocessing training set"
   ]
  },
  {
   "cell_type": "code",
   "execution_count": 6,
   "id": "be2e6867-15ff-44dd-8722-3264d0ebf01e",
   "metadata": {},
   "outputs": [
    {
     "name": "stdout",
     "output_type": "stream",
     "text": [
      "Found 8000 images belonging to 2 classes.\n"
     ]
    }
   ],
   "source": [
    "train_datagen = ImageDataGenerator(\n",
    "    rescale=1./255,\n",
    "    shear_range=0.2,\n",
    "    zoom_range=0.2,\n",
    "    horizontal_flip=True\n",
    ")\n",
    "\n",
    "train_dataset = train_datagen.flow_from_directory(\n",
    "    'Dataset/training_set/',\n",
    "    target_size=(64,64),\n",
    "    batch_size=32,\n",
    "    class_mode='binary'\n",
    ")"
   ]
  },
  {
   "cell_type": "markdown",
   "id": "3a69d86c-1a15-4889-8287-b8b0c0f0f151",
   "metadata": {},
   "source": [
    "### 2. Preprocessing testing set"
   ]
  },
  {
   "cell_type": "code",
   "execution_count": 7,
   "id": "f8eb14f0-efef-4faa-b1db-6fa48baf18a3",
   "metadata": {},
   "outputs": [
    {
     "name": "stdout",
     "output_type": "stream",
     "text": [
      "Found 2000 images belonging to 2 classes.\n"
     ]
    }
   ],
   "source": [
    "test_datagen = ImageDataGenerator(\n",
    "    rescale=1./255,\n",
    "    shear_range=0.2,\n",
    "    zoom_range=0.2,\n",
    "    horizontal_flip=True\n",
    ")\n",
    "\n",
    "test_dataset = test_datagen.flow_from_directory(\n",
    "    'Dataset/test_set/',\n",
    "    target_size=(64,64),\n",
    "    batch_size=32,\n",
    "    class_mode='binary'\n",
    ")"
   ]
  },
  {
   "cell_type": "markdown",
   "id": "f5e11450-c94f-4bda-92f9-f59bdb3a48f8",
   "metadata": {},
   "source": [
    "# Building a CNN model"
   ]
  },
  {
   "cell_type": "markdown",
   "id": "88052c24-929e-48c2-a700-936bb0d081dd",
   "metadata": {},
   "source": [
    "### 1. Initializing model"
   ]
  },
  {
   "cell_type": "code",
   "execution_count": 8,
   "id": "faaadd61-811d-463a-814d-9c86b4c7caa0",
   "metadata": {},
   "outputs": [],
   "source": [
    "cnn = tf.keras.models.Sequential()"
   ]
  },
  {
   "cell_type": "markdown",
   "id": "f954d3b9-95a7-44d4-bd7d-9d0ad76385ce",
   "metadata": {},
   "source": [
    "### 2. Convolution"
   ]
  },
  {
   "cell_type": "code",
   "execution_count": 9,
   "id": "4180a54b-7799-4d65-b221-6bb96bd9df76",
   "metadata": {},
   "outputs": [
    {
     "name": "stderr",
     "output_type": "stream",
     "text": [
      "/Library/Frameworks/Python.framework/Versions/3.11/lib/python3.11/site-packages/keras/src/layers/convolutional/base_conv.py:107: UserWarning: Do not pass an `input_shape`/`input_dim` argument to a layer. When using Sequential models, prefer using an `Input(shape)` object as the first layer in the model instead.\n",
      "  super().__init__(activity_regularizer=activity_regularizer, **kwargs)\n"
     ]
    }
   ],
   "source": [
    "cnn.add(tf.keras.layers.Conv2D(filters=32, kernel_size=3, activation='relu', input_shape=[64,64,3]))"
   ]
  },
  {
   "cell_type": "markdown",
   "id": "597f8fe0-673d-4c42-9e7a-71d5bb743c7d",
   "metadata": {},
   "source": [
    "### 3. Pooling"
   ]
  },
  {
   "cell_type": "code",
   "execution_count": 10,
   "id": "e45d5088-5ccf-4056-9e35-a62a548d536a",
   "metadata": {},
   "outputs": [],
   "source": [
    "cnn.add(tf.keras.layers.MaxPool2D(pool_size=2, strides=2, padding='valid'))"
   ]
  },
  {
   "cell_type": "markdown",
   "id": "9f448f01-6dcb-453e-8219-578ee3d5dbee",
   "metadata": {},
   "source": [
    "### 4. Adding 2nd Convolution and Pooling layer"
   ]
  },
  {
   "cell_type": "code",
   "execution_count": 11,
   "id": "19975c72-5812-4f8c-bd7f-86849173c5dc",
   "metadata": {},
   "outputs": [],
   "source": [
    "cnn.add(tf.keras.layers.Conv2D(filters=32, kernel_size=3, activation='relu'))\n",
    "cnn.add(tf.keras.layers.MaxPool2D(pool_size=2, strides=2))"
   ]
  },
  {
   "cell_type": "markdown",
   "id": "faf200d3-7df7-44dc-bd8f-457b1ea152b0",
   "metadata": {},
   "source": [
    "# Flattening "
   ]
  },
  {
   "cell_type": "code",
   "execution_count": 12,
   "id": "5156041b-eb66-4d80-804b-eda9c8a1a16f",
   "metadata": {},
   "outputs": [],
   "source": [
    "cnn.add(tf.keras.layers.Flatten())"
   ]
  },
  {
   "cell_type": "markdown",
   "id": "414dcf61-f200-48cb-8501-d4d79a4cc14c",
   "metadata": {},
   "source": [
    "# Fully Connecting"
   ]
  },
  {
   "cell_type": "code",
   "execution_count": 13,
   "id": "09598ad1-8eff-40ca-912f-98e789c4fa2c",
   "metadata": {},
   "outputs": [],
   "source": [
    "cnn.add(tf.keras.layers.Dense(units=128, activation='relu'))"
   ]
  },
  {
   "cell_type": "markdown",
   "id": "64483bfe-8bd0-4e59-9468-6c2152aa0395",
   "metadata": {},
   "source": [
    "# Adding output layer"
   ]
  },
  {
   "cell_type": "code",
   "execution_count": 14,
   "id": "97d4d03d-8585-4ff8-aae4-1929428c14aa",
   "metadata": {},
   "outputs": [],
   "source": [
    "cnn.add(tf.keras.layers.Dense(units=1, activation='sigmoid'))"
   ]
  },
  {
   "cell_type": "markdown",
   "id": "8ed42b6b-061c-4acf-8fbf-2d13c5526be8",
   "metadata": {},
   "source": [
    "# Training the CNN"
   ]
  },
  {
   "cell_type": "markdown",
   "id": "d25203b8-5266-474e-8d48-004cf3d5e890",
   "metadata": {},
   "source": [
    "### 1. Compilling the CNN"
   ]
  },
  {
   "cell_type": "code",
   "execution_count": 15,
   "id": "4722c0ee-2b06-494d-aa22-627e6a8f2097",
   "metadata": {},
   "outputs": [],
   "source": [
    "cnn.compile(optimizer='adam', loss='binary_crossentropy', metrics=['accuracy'])"
   ]
  },
  {
   "cell_type": "markdown",
   "id": "2be1ef68-0aa2-4aa4-85b4-ebc0f0550079",
   "metadata": {},
   "source": [
    "### 2. Training the model on Training set and evaluting on the Test set"
   ]
  },
  {
   "cell_type": "code",
   "execution_count": 17,
   "id": "2c61ac95-68de-4385-95b0-7e34f4187d72",
   "metadata": {},
   "outputs": [
    {
     "name": "stdout",
     "output_type": "stream",
     "text": [
      "Epoch 1/25\n"
     ]
    },
    {
     "name": "stderr",
     "output_type": "stream",
     "text": [
      "/Library/Frameworks/Python.framework/Versions/3.11/lib/python3.11/site-packages/keras/src/trainers/data_adapters/py_dataset_adapter.py:122: UserWarning: Your `PyDataset` class should call `super().__init__(**kwargs)` in its constructor. `**kwargs` can include `workers`, `use_multiprocessing`, `max_queue_size`. Do not pass these arguments to `fit()`, as they will be ignored.\n",
      "  self._warn_if_super_not_called()\n"
     ]
    },
    {
     "name": "stdout",
     "output_type": "stream",
     "text": [
      "\u001b[1m250/250\u001b[0m \u001b[32m━━━━━━━━━━━━━━━━━━━━\u001b[0m\u001b[37m\u001b[0m \u001b[1m12s\u001b[0m 45ms/step - accuracy: 0.5484 - loss: 0.6949 - val_accuracy: 0.6635 - val_loss: 0.6126\n",
      "Epoch 2/25\n",
      "\u001b[1m250/250\u001b[0m \u001b[32m━━━━━━━━━━━━━━━━━━━━\u001b[0m\u001b[37m\u001b[0m \u001b[1m11s\u001b[0m 45ms/step - accuracy: 0.6752 - loss: 0.6026 - val_accuracy: 0.6980 - val_loss: 0.5811\n",
      "Epoch 3/25\n",
      "\u001b[1m250/250\u001b[0m \u001b[32m━━━━━━━━━━━━━━━━━━━━\u001b[0m\u001b[37m\u001b[0m \u001b[1m13s\u001b[0m 50ms/step - accuracy: 0.7041 - loss: 0.5626 - val_accuracy: 0.7310 - val_loss: 0.5585\n",
      "Epoch 4/25\n",
      "\u001b[1m250/250\u001b[0m \u001b[32m━━━━━━━━━━━━━━━━━━━━\u001b[0m\u001b[37m\u001b[0m \u001b[1m12s\u001b[0m 46ms/step - accuracy: 0.7342 - loss: 0.5270 - val_accuracy: 0.7520 - val_loss: 0.5251\n",
      "Epoch 5/25\n",
      "\u001b[1m250/250\u001b[0m \u001b[32m━━━━━━━━━━━━━━━━━━━━\u001b[0m\u001b[37m\u001b[0m \u001b[1m12s\u001b[0m 48ms/step - accuracy: 0.7565 - loss: 0.4981 - val_accuracy: 0.7620 - val_loss: 0.5087\n",
      "Epoch 6/25\n",
      "\u001b[1m250/250\u001b[0m \u001b[32m━━━━━━━━━━━━━━━━━━━━\u001b[0m\u001b[37m\u001b[0m \u001b[1m12s\u001b[0m 47ms/step - accuracy: 0.7623 - loss: 0.4916 - val_accuracy: 0.6890 - val_loss: 0.6169\n",
      "Epoch 7/25\n",
      "\u001b[1m250/250\u001b[0m \u001b[32m━━━━━━━━━━━━━━━━━━━━\u001b[0m\u001b[37m\u001b[0m \u001b[1m12s\u001b[0m 47ms/step - accuracy: 0.7707 - loss: 0.4781 - val_accuracy: 0.7835 - val_loss: 0.4695\n",
      "Epoch 8/25\n",
      "\u001b[1m250/250\u001b[0m \u001b[32m━━━━━━━━━━━━━━━━━━━━\u001b[0m\u001b[37m\u001b[0m \u001b[1m12s\u001b[0m 48ms/step - accuracy: 0.7857 - loss: 0.4533 - val_accuracy: 0.7685 - val_loss: 0.4941\n",
      "Epoch 9/25\n",
      "\u001b[1m250/250\u001b[0m \u001b[32m━━━━━━━━━━━━━━━━━━━━\u001b[0m\u001b[37m\u001b[0m \u001b[1m14s\u001b[0m 54ms/step - accuracy: 0.7885 - loss: 0.4472 - val_accuracy: 0.7790 - val_loss: 0.4727\n",
      "Epoch 10/25\n",
      "\u001b[1m250/250\u001b[0m \u001b[32m━━━━━━━━━━━━━━━━━━━━\u001b[0m\u001b[37m\u001b[0m \u001b[1m12s\u001b[0m 46ms/step - accuracy: 0.7966 - loss: 0.4383 - val_accuracy: 0.7815 - val_loss: 0.4692\n",
      "Epoch 11/25\n",
      "\u001b[1m250/250\u001b[0m \u001b[32m━━━━━━━━━━━━━━━━━━━━\u001b[0m\u001b[37m\u001b[0m \u001b[1m12s\u001b[0m 46ms/step - accuracy: 0.8126 - loss: 0.4122 - val_accuracy: 0.7810 - val_loss: 0.4639\n",
      "Epoch 12/25\n",
      "\u001b[1m250/250\u001b[0m \u001b[32m━━━━━━━━━━━━━━━━━━━━\u001b[0m\u001b[37m\u001b[0m \u001b[1m12s\u001b[0m 46ms/step - accuracy: 0.8095 - loss: 0.4118 - val_accuracy: 0.7855 - val_loss: 0.4777\n",
      "Epoch 13/25\n",
      "\u001b[1m250/250\u001b[0m \u001b[32m━━━━━━━━━━━━━━━━━━━━\u001b[0m\u001b[37m\u001b[0m \u001b[1m12s\u001b[0m 47ms/step - accuracy: 0.8128 - loss: 0.3972 - val_accuracy: 0.7775 - val_loss: 0.4788\n",
      "Epoch 14/25\n",
      "\u001b[1m250/250\u001b[0m \u001b[32m━━━━━━━━━━━━━━━━━━━━\u001b[0m\u001b[37m\u001b[0m \u001b[1m11s\u001b[0m 44ms/step - accuracy: 0.8201 - loss: 0.3971 - val_accuracy: 0.7795 - val_loss: 0.4569\n",
      "Epoch 15/25\n",
      "\u001b[1m250/250\u001b[0m \u001b[32m━━━━━━━━━━━━━━━━━━━━\u001b[0m\u001b[37m\u001b[0m \u001b[1m12s\u001b[0m 47ms/step - accuracy: 0.8299 - loss: 0.3734 - val_accuracy: 0.8000 - val_loss: 0.4467\n",
      "Epoch 16/25\n",
      "\u001b[1m250/250\u001b[0m \u001b[32m━━━━━━━━━━━━━━━━━━━━\u001b[0m\u001b[37m\u001b[0m \u001b[1m11s\u001b[0m 44ms/step - accuracy: 0.8299 - loss: 0.3668 - val_accuracy: 0.7970 - val_loss: 0.4579\n",
      "Epoch 17/25\n",
      "\u001b[1m250/250\u001b[0m \u001b[32m━━━━━━━━━━━━━━━━━━━━\u001b[0m\u001b[37m\u001b[0m \u001b[1m11s\u001b[0m 44ms/step - accuracy: 0.8394 - loss: 0.3553 - val_accuracy: 0.7905 - val_loss: 0.4519\n",
      "Epoch 18/25\n",
      "\u001b[1m250/250\u001b[0m \u001b[32m━━━━━━━━━━━━━━━━━━━━\u001b[0m\u001b[37m\u001b[0m \u001b[1m11s\u001b[0m 44ms/step - accuracy: 0.8400 - loss: 0.3576 - val_accuracy: 0.7995 - val_loss: 0.4477\n",
      "Epoch 19/25\n",
      "\u001b[1m250/250\u001b[0m \u001b[32m━━━━━━━━━━━━━━━━━━━━\u001b[0m\u001b[37m\u001b[0m \u001b[1m13s\u001b[0m 52ms/step - accuracy: 0.8585 - loss: 0.3218 - val_accuracy: 0.7910 - val_loss: 0.4681\n",
      "Epoch 20/25\n",
      "\u001b[1m250/250\u001b[0m \u001b[32m━━━━━━━━━━━━━━━━━━━━\u001b[0m\u001b[37m\u001b[0m \u001b[1m12s\u001b[0m 46ms/step - accuracy: 0.8620 - loss: 0.3153 - val_accuracy: 0.7975 - val_loss: 0.4526\n",
      "Epoch 21/25\n",
      "\u001b[1m250/250\u001b[0m \u001b[32m━━━━━━━━━━━━━━━━━━━━\u001b[0m\u001b[37m\u001b[0m \u001b[1m12s\u001b[0m 48ms/step - accuracy: 0.8652 - loss: 0.3072 - val_accuracy: 0.7740 - val_loss: 0.5020\n",
      "Epoch 22/25\n",
      "\u001b[1m250/250\u001b[0m \u001b[32m━━━━━━━━━━━━━━━━━━━━\u001b[0m\u001b[37m\u001b[0m \u001b[1m12s\u001b[0m 49ms/step - accuracy: 0.8664 - loss: 0.3136 - val_accuracy: 0.7945 - val_loss: 0.4731\n",
      "Epoch 23/25\n",
      "\u001b[1m250/250\u001b[0m \u001b[32m━━━━━━━━━━━━━━━━━━━━\u001b[0m\u001b[37m\u001b[0m \u001b[1m12s\u001b[0m 46ms/step - accuracy: 0.8701 - loss: 0.3061 - val_accuracy: 0.7900 - val_loss: 0.4535\n",
      "Epoch 24/25\n",
      "\u001b[1m250/250\u001b[0m \u001b[32m━━━━━━━━━━━━━━━━━━━━\u001b[0m\u001b[37m\u001b[0m \u001b[1m13s\u001b[0m 52ms/step - accuracy: 0.8749 - loss: 0.2985 - val_accuracy: 0.7960 - val_loss: 0.4911\n",
      "Epoch 25/25\n",
      "\u001b[1m250/250\u001b[0m \u001b[32m━━━━━━━━━━━━━━━━━━━━\u001b[0m\u001b[37m\u001b[0m \u001b[1m12s\u001b[0m 46ms/step - accuracy: 0.8708 - loss: 0.3020 - val_accuracy: 0.8070 - val_loss: 0.4562\n"
     ]
    },
    {
     "data": {
      "text/plain": [
       "<keras.src.callbacks.history.History at 0x15045ee10>"
      ]
     },
     "execution_count": 17,
     "metadata": {},
     "output_type": "execute_result"
    }
   ],
   "source": [
    "cnn.fit(x = train_dataset, validation_data=test_dataset, epochs=25)"
   ]
  },
  {
   "cell_type": "markdown",
   "id": "91da5cf9-26ad-4390-a605-b8ffe9fa0e49",
   "metadata": {},
   "source": [
    "# Making single Prediction"
   ]
  },
  {
   "cell_type": "code",
   "execution_count": 22,
   "id": "325d16c9-b74e-410a-84a8-fb6e0bcda6a1",
   "metadata": {},
   "outputs": [
    {
     "name": "stdout",
     "output_type": "stream",
     "text": [
      "\u001b[1m1/1\u001b[0m \u001b[32m━━━━━━━━━━━━━━━━━━━━\u001b[0m\u001b[37m\u001b[0m \u001b[1m0s\u001b[0m 11ms/step\n",
      "dog\n"
     ]
    }
   ],
   "source": [
    "import numpy as np\n",
    "from tensorflow.keras.preprocessing import image\n",
    "\n",
    "test_img = image.load_img('Dataset/Single Prediction/cat_or_dog_3.webp', target_size=(64,64))\n",
    "test_img = image.img_to_array(test_img)\n",
    "test_img = np.expand_dims(test_img, axis=0)\n",
    "\n",
    "result = cnn.predict(test_img)\n",
    "train_dataset.class_indices\n",
    "\n",
    "if result[0][0] == 1:\n",
    "    res = 'dog'\n",
    "else:\n",
    "    res = 'cat'\n",
    "\n",
    "print(res)"
   ]
  },
  {
   "cell_type": "code",
   "execution_count": null,
   "id": "fc0f1ac2-d075-497c-af88-ae80b47acdba",
   "metadata": {},
   "outputs": [],
   "source": []
  }
 ],
 "metadata": {
  "kernelspec": {
   "display_name": "Python 3 (ipykernel)",
   "language": "python",
   "name": "python3"
  },
  "language_info": {
   "codemirror_mode": {
    "name": "ipython",
    "version": 3
   },
   "file_extension": ".py",
   "mimetype": "text/x-python",
   "name": "python",
   "nbconvert_exporter": "python",
   "pygments_lexer": "ipython3",
   "version": "3.11.9"
  }
 },
 "nbformat": 4,
 "nbformat_minor": 5
}
